{
  "cells": [
    {
      "cell_type": "markdown",
      "metadata": {
        "id": "view-in-github",
        "colab_type": "text"
      },
      "source": [
        "<a href=\"https://colab.research.google.com/github/VittorioRossi/NLP-content-moderation/blob/main/training.ipynb\" target=\"_parent\"><img src=\"https://colab.research.google.com/assets/colab-badge.svg\" alt=\"Open In Colab\"/></a>"
      ]
    },
    {
      "cell_type": "code",
      "execution_count": 9,
      "metadata": {
        "id": "7y6jfhIVm72H"
      },
      "outputs": [],
      "source": [
        "%%capture\n",
        "!pip install spacy[transformers]\n",
        "!python3 -m spacy download en_core_web_md"
      ]
    },
    {
      "cell_type": "markdown",
      "source": [
        "# Model creation"
      ],
      "metadata": {
        "id": "0EUgA6jFSd9z"
      }
    },
    {
      "cell_type": "code",
      "source": [
        "import pandas as pd \n",
        "import numpy as np\n",
        "from tqdm import tqdm\n",
        "import spacy"
      ],
      "metadata": {
        "id": "ZUusrn6rC2UO"
      },
      "execution_count": 49,
      "outputs": []
    },
    {
      "cell_type": "code",
      "source": [
        "from google.colab import drive\n",
        "drive.mount('drive')"
      ],
      "metadata": {
        "id": "Pzw1vTcUDD1D"
      },
      "execution_count": null,
      "outputs": []
    },
    {
      "cell_type": "code",
      "source": [
        "train_data = pd.read_csv(\"/content/drive/MyDrive/Datasets/text-moderation/merged_train.csv\")\n",
        "test_data = pd.read_csv(\"/content/drive/MyDrive/Datasets/text-moderation/merged_test.csv\")"
      ],
      "metadata": {
        "id": "LcVdepepiChF"
      },
      "execution_count": 6,
      "outputs": []
    },
    {
      "cell_type": "code",
      "source": [
        "LABELS = [\"quality\", \"toxic\" ,\"spam\"]\n",
        "\n",
        "nlp = spacy.load('en_core_web_md')\n",
        "\n",
        "doc_bin_train = spacy.tokens.DocBin()\n",
        "doc_bin_test = spacy.tokens.DocBin()\n",
        "\n",
        "\n",
        "for text, lab in tqdm(nlp.pipe(zip(list(train_data['text']), list(train_data['label'])), as_tuples=True)):\n",
        "    for l in LABELS: text.cats[l] = 0 \n",
        "    text.cats[LABELS[lab]] = True\n",
        "    doc_bin_train.add(text)\n",
        "\n",
        "for text, lab in tqdm(nlp.pipe(zip(list(test_data['text'][:10_000]), list(test_data['label'][:10_000])), as_tuples=True)):\n",
        "    for l in LABELS: text.cats[l] = 0 \n",
        "    text.cats[LABELS[lab]] = True\n",
        "    doc_bin_test.add(text)\n",
        "\n",
        "doc_bin_train.to_disk('./train.spacy')\n",
        "doc_bin_test.to_disk('./test.spacy')"
      ],
      "metadata": {
        "colab": {
          "base_uri": "https://localhost:8080/"
        },
        "id": "ucYi0xe1S1mR",
        "outputId": "929bc081-d541-4cc5-9a4e-1f89e4795605"
      },
      "execution_count": 10,
      "outputs": [
        {
          "output_type": "stream",
          "name": "stderr",
          "text": [
            "18000it [03:04, 97.74it/s] \n",
            "10000it [01:55, 86.39it/s]\n"
          ]
        }
      ]
    },
    {
      "cell_type": "code",
      "execution_count": 13,
      "metadata": {
        "colab": {
          "base_uri": "https://localhost:8080/"
        },
        "id": "zEbNGZY2B4Db",
        "outputId": "bf970401-3800-42cd-ce53-625a0d4617e9"
      },
      "outputs": [
        {
          "output_type": "stream",
          "name": "stdout",
          "text": [
            "\u001b[38;5;2m✔ Auto-filled config with all values\u001b[0m\n",
            "\u001b[38;5;2m✔ Saved config\u001b[0m\n",
            "config.cfg\n",
            "You can now add your data and train your pipeline:\n",
            "python -m spacy train config.cfg --paths.train ./train.spacy --paths.dev ./dev.spacy\n"
          ]
        },
        {
          "output_type": "stream",
          "name": "stderr",
          "text": [
            "2023-02-11 09:27:48.635543: W tensorflow/compiler/xla/stream_executor/platform/default/dso_loader.cc:64] Could not load dynamic library 'libnvinfer.so.7'; dlerror: libnvinfer.so.7: cannot open shared object file: No such file or directory; LD_LIBRARY_PATH: /usr/local/nvidia/lib:/usr/local/nvidia/lib64\n",
            "2023-02-11 09:27:48.635681: W tensorflow/compiler/xla/stream_executor/platform/default/dso_loader.cc:64] Could not load dynamic library 'libnvinfer_plugin.so.7'; dlerror: libnvinfer_plugin.so.7: cannot open shared object file: No such file or directory; LD_LIBRARY_PATH: /usr/local/nvidia/lib:/usr/local/nvidia/lib64\n",
            "2023-02-11 09:27:48.635700: W tensorflow/compiler/tf2tensorrt/utils/py_utils.cc:38] TF-TRT Warning: Cannot dlopen some TensorRT libraries. If you would like to use Nvidia GPU with TensorRT, please make sure the missing libraries mentioned above are installed properly.\n",
            "2023-02-11 09:27:50.363486: E tensorflow/compiler/xla/stream_executor/cuda/cuda_driver.cc:267] failed call to cuInit: CUDA_ERROR_NO_DEVICE: no CUDA-capable device is detected\n",
            "/usr/local/lib/python3.8/dist-packages/torch/cuda/__init__.py:497: UserWarning: Can't initialize NVML\n",
            "  warnings.warn(\"Can't initialize NVML\")\n"
          ]
        }
      ],
      "source": [
        "%%bash\n",
        "python -m spacy init fill-config ./base_config.cfg ./config.cfg"
      ]
    },
    {
      "cell_type": "code",
      "execution_count": 14,
      "metadata": {
        "colab": {
          "base_uri": "https://localhost:8080/"
        },
        "id": "Ah3hIdcIG04H",
        "outputId": "86d3fc9a-5d97-4429-ebe3-e61b15153b83"
      },
      "outputs": [
        {
          "output_type": "stream",
          "name": "stdout",
          "text": [
            "/usr/local/lib/python3.8/dist-packages/torch/cuda/__init__.py:497: UserWarning: Can't initialize NVML\n",
            "  warnings.warn(\"Can't initialize NVML\")\n",
            "2023-02-11 09:27:56.454527: W tensorflow/compiler/xla/stream_executor/platform/default/dso_loader.cc:64] Could not load dynamic library 'libnvinfer.so.7'; dlerror: libnvinfer.so.7: cannot open shared object file: No such file or directory; LD_LIBRARY_PATH: /usr/local/nvidia/lib:/usr/local/nvidia/lib64\n",
            "2023-02-11 09:27:56.454679: W tensorflow/compiler/xla/stream_executor/platform/default/dso_loader.cc:64] Could not load dynamic library 'libnvinfer_plugin.so.7'; dlerror: libnvinfer_plugin.so.7: cannot open shared object file: No such file or directory; LD_LIBRARY_PATH: /usr/local/nvidia/lib:/usr/local/nvidia/lib64\n",
            "2023-02-11 09:27:56.454705: W tensorflow/compiler/tf2tensorrt/utils/py_utils.cc:38] TF-TRT Warning: Cannot dlopen some TensorRT libraries. If you would like to use Nvidia GPU with TensorRT, please make sure the missing libraries mentioned above are installed properly.\n",
            "2023-02-11 09:27:59.130143: E tensorflow/compiler/xla/stream_executor/cuda/cuda_driver.cc:267] failed call to cuInit: CUDA_ERROR_NO_DEVICE: no CUDA-capable device is detected\n",
            "\u001b[38;5;4mℹ Saving to output directory: output\u001b[0m\n",
            "\u001b[38;5;4mℹ Using CPU\u001b[0m\n",
            "\u001b[1m\n",
            "=========================== Initializing pipeline ===========================\u001b[0m\n",
            "[2023-02-11 09:28:00,493] [INFO] Set up nlp object from config\n",
            "INFO:spacy:Set up nlp object from config\n",
            "[2023-02-11 09:28:00,506] [INFO] Pipeline: ['textcat']\n",
            "INFO:spacy:Pipeline: ['textcat']\n",
            "[2023-02-11 09:28:00,509] [INFO] Created vocabulary\n",
            "INFO:spacy:Created vocabulary\n",
            "[2023-02-11 09:28:02,396] [INFO] Added vectors: en_core_web_md\n",
            "INFO:spacy:Added vectors: en_core_web_md\n",
            "[2023-02-11 09:28:02,638] [INFO] Finished initializing nlp object\n",
            "INFO:spacy:Finished initializing nlp object\n",
            "[2023-02-11 09:29:03,221] [INFO] Initialized pipeline components: ['textcat']\n",
            "INFO:spacy:Initialized pipeline components: ['textcat']\n",
            "\u001b[38;5;2m✔ Initialized pipeline\u001b[0m\n",
            "\u001b[1m\n",
            "============================= Training pipeline =============================\u001b[0m\n",
            "\u001b[38;5;4mℹ Pipeline: ['textcat']\u001b[0m\n",
            "\u001b[38;5;4mℹ Initial learn rate: 0.001\u001b[0m\n",
            "E    #       LOSS TEXTCAT  CATS_SCORE  SCORE \n",
            "---  ------  ------------  ----------  ------\n",
            "  0       0          0.22        0.88    0.01\n",
            "  0     200         33.21       30.99    0.31\n",
            "  0     400         24.97       23.49    0.23\n",
            "  0     600         21.60       25.46    0.25\n",
            "  0     800         19.32       31.35    0.31\n",
            "  0    1000         18.19       30.85    0.31\n",
            "  0    1200         17.28       24.53    0.25\n",
            "  0    1400         14.56       29.37    0.29\n",
            "  0    1600         16.39       28.70    0.29\n",
            "  0    1800         14.58       31.80    0.32\n",
            "  0    2000         11.42       30.07    0.30\n",
            "  0    2200         14.51       31.94    0.32\n",
            "  0    2400         10.94       31.13    0.31\n",
            "  0    2600         11.90       30.40    0.30\n",
            "  1    2800          8.08       28.04    0.28\n",
            "  1    3000          9.41       30.86    0.31\n",
            "  1    3200          8.72       31.17    0.31\n",
            "  1    3400         10.64       31.98    0.32\n",
            "  1    3600          8.55       31.88    0.32\n",
            "  2    3800          8.23       31.23    0.31\n",
            "  2    4000          6.98       31.79    0.32\n",
            "  2    4200          6.34       30.38    0.30\n",
            "  2    4400          6.41       31.98    0.32\n",
            "  2    4600          7.02       31.43    0.31\n",
            "  2    4800          7.39       31.24    0.31\n",
            "  3    5000          5.85       29.53    0.30\n",
            "\u001b[38;5;2m✔ Saved pipeline to output directory\u001b[0m\n",
            "output/model-last\n"
          ]
        }
      ],
      "source": [
        "!python -m spacy train config.cfg --paths.train ./train.spacy --paths.dev ./test.spacy --output ./output"
      ]
    },
    {
      "cell_type": "code",
      "source": [
        "import shutil\n",
        "shutil.copytree('/content/output/model-best', \"/content/drive/MyDrive/Datasets/text-moderation/best-model\", dirs_exist_ok=True)"
      ],
      "metadata": {
        "colab": {
          "base_uri": "https://localhost:8080/",
          "height": 35
        },
        "id": "vHKx7crkvHwK",
        "outputId": "cd583a61-e01c-4895-dd90-fb244f36067a"
      },
      "execution_count": 47,
      "outputs": [
        {
          "output_type": "execute_result",
          "data": {
            "text/plain": [
              "'/content/drive/MyDrive/Datasets/text-moderation/best-model'"
            ],
            "application/vnd.google.colaboratory.intrinsic+json": {
              "type": "string"
            }
          },
          "metadata": {},
          "execution_count": 47
        }
      ]
    },
    {
      "cell_type": "code",
      "source": [
        "shutil.copytree('/content/output/model-best', \"/content/drive/MyDrive/Datasets/text-moderation/best-model\", dirs_exist_ok=True)"
      ],
      "metadata": {
        "id": "0CwJT4BjBkGw"
      },
      "execution_count": null,
      "outputs": []
    },
    {
      "cell_type": "code",
      "execution_count": 15,
      "metadata": {
        "id": "1YKCQ9SiLBiN"
      },
      "outputs": [],
      "source": [
        "nlp_test = spacy.load('/content/output/model-best')"
      ]
    },
    {
      "cell_type": "code",
      "source": [
        "balanced_test = pd.concat((\n",
        "    test_data[test_data.label == 0][:1_300], \n",
        "    test_data[test_data.label == 1][:1_300],\n",
        "    test_data[test_data.label == 2][:1_300],\n",
        "))"
      ],
      "metadata": {
        "id": "p9dAauna8PMN"
      },
      "execution_count": 36,
      "outputs": []
    },
    {
      "cell_type": "code",
      "execution_count": 37,
      "metadata": {
        "id": "rSkhzW20TVNS",
        "colab": {
          "base_uri": "https://localhost:8080/"
        },
        "outputId": "691ed83b-70fe-4cf2-dcd7-264a1d3c7873"
      },
      "outputs": [
        {
          "output_type": "stream",
          "name": "stderr",
          "text": [
            "3900it [00:11, 351.49it/s]\n"
          ]
        }
      ],
      "source": [
        "pred = []\n",
        "for text in tqdm(nlp_test.pipe(list(balanced_test['text']))):\n",
        "  pred.append(np.argmax([text.cats[\"quality\"], text.cats[\"toxic\"], text.cats[\"spam\"]]))"
      ]
    },
    {
      "cell_type": "code",
      "source": [
        "from sklearn.metrics import f1_score, accuracy_score, recall_score, confusion_matrix"
      ],
      "metadata": {
        "id": "VU3TGBbLoyWK"
      },
      "execution_count": 38,
      "outputs": []
    },
    {
      "cell_type": "code",
      "source": [
        "accuracy_score(balanced_test.label, pred)"
      ],
      "metadata": {
        "colab": {
          "base_uri": "https://localhost:8080/"
        },
        "id": "9WXBIAloqJzT",
        "outputId": "95787dcd-c714-4c9f-df3f-7e104a6926f1"
      },
      "execution_count": 39,
      "outputs": [
        {
          "output_type": "execute_result",
          "data": {
            "text/plain": [
              "0.8874358974358975"
            ]
          },
          "metadata": {},
          "execution_count": 39
        }
      ]
    },
    {
      "cell_type": "code",
      "execution_count": 43,
      "metadata": {
        "colab": {
          "base_uri": "https://localhost:8080/"
        },
        "id": "YBfuFjXtTeXS",
        "outputId": "5ec9485b-666f-44de-c8c8-6aa826896158"
      },
      "outputs": [
        {
          "output_type": "execute_result",
          "data": {
            "text/plain": [
              "0.8882480475094354"
            ]
          },
          "metadata": {},
          "execution_count": 43
        }
      ],
      "source": [
        "f1_score(balanced_test.label, pred,  average = \"weighted\")"
      ]
    },
    {
      "cell_type": "code",
      "source": [
        "confusion_matrix(balanced_test.label, pred)"
      ],
      "metadata": {
        "colab": {
          "base_uri": "https://localhost:8080/"
        },
        "id": "W9Q8Ju2eqcmL",
        "outputId": "87274a6c-94f9-4f93-c433-0d3bf9f8ecac"
      },
      "execution_count": 45,
      "outputs": [
        {
          "output_type": "execute_result",
          "data": {
            "text/plain": [
              "array([[1195,   90,   15],\n",
              "       [ 248, 1046,    6],\n",
              "       [  61,   19, 1220]])"
            ]
          },
          "metadata": {},
          "execution_count": 45
        }
      ]
    }
  ],
  "metadata": {
    "colab": {
      "provenance": [],
      "authorship_tag": "ABX9TyM0s8XfPJmz9XLcktNnrdC8",
      "include_colab_link": true
    },
    "kernelspec": {
      "display_name": "Python 3",
      "name": "python3"
    },
    "language_info": {
      "name": "python"
    },
    "accelerator": "GPU",
    "gpuClass": "standard"
  },
  "nbformat": 4,
  "nbformat_minor": 0
}