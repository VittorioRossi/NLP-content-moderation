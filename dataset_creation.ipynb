{
  "nbformat": 4,
  "nbformat_minor": 0,
  "metadata": {
    "colab": {
      "provenance": [],
      "authorship_tag": "ABX9TyOEq0USyh8o9bk5JYEJotiK",
      "include_colab_link": true
    },
    "kernelspec": {
      "name": "python3",
      "display_name": "Python 3"
    },
    "language_info": {
      "name": "python"
    }
  },
  "cells": [
    {
      "cell_type": "markdown",
      "metadata": {
        "id": "view-in-github",
        "colab_type": "text"
      },
      "source": [
        "<a href=\"https://colab.research.google.com/github/VittorioRossi/NLP-content-moderation/blob/main/dataset_creation.ipynb\" target=\"_parent\"><img src=\"https://colab.research.google.com/assets/colab-badge.svg\" alt=\"Open In Colab\"/></a>"
      ]
    },
    {
      "cell_type": "code",
      "execution_count": null,
      "metadata": {
        "id": "W9LLUxcIB3Cj"
      },
      "outputs": [],
      "source": [
        "!pip install tensorflow_datasets"
      ]
    },
    {
      "cell_type": "code",
      "source": [
        "from google.colab import drive\n",
        "drive.mount('drive')"
      ],
      "metadata": {
        "id": "lKCjL56zCHfU"
      },
      "execution_count": null,
      "outputs": []
    },
    {
      "cell_type": "code",
      "source": [
        "import pandas as pd\n",
        "import numpy as np \n",
        "import os \n",
        "import tensorflow_dataset as tfds"
      ],
      "metadata": {
        "id": "hIC7zUwQB5UC"
      },
      "execution_count": null,
      "outputs": []
    },
    {
      "cell_type": "code",
      "source": [
        "# directory\n",
        "TMP_DIR = os.path.join('/tmp/data')\n",
        "\n",
        "TRAIN_DIR = os.path.join(TMP_DIR, \"train\")\n",
        "TEST_DIR = os.path.join(TMP_DIR, \"test\")\n",
        "\n",
        "SEED = 42\n",
        "BATCH_SIZE = 64\n",
        "\n",
        "\n",
        "#creating folder structure\n",
        "os.makedirs(TMP_DIR, exist_ok = True)\n",
        "os.makedirs(TEST_DIR, exist_ok = True)\n",
        "os.makedirs(TRAIN_DIR, exist_ok = True)\n",
        "\n",
        "\n",
        "spam_data = pd.read_csv(\"/content/drive/MyDrive/Datasets/text-moderation/spam-train.csv\")\n",
        "spam_data = spam_data[[\"Tweet\", \"Type\"]]\n",
        "spam_data.columns = ['text', 'label']\n",
        "spam_data.label = spam_data.label.map(lambda x: 0 if x == \"Quality\" else 2)\n",
        "\n",
        "spam_data.label.value_counts()"
      ],
      "metadata": {
        "id": "RKQpa6i1CBD6"
      },
      "execution_count": null,
      "outputs": []
    },
    {
      "cell_type": "code",
      "source": [
        "import tensorflow_datasets as tfds"
      ],
      "metadata": {
        "id": "RNvKZq8rtF4q"
      },
      "execution_count": null,
      "outputs": []
    },
    {
      "cell_type": "code",
      "source": [
        "toxic_train, toxic_test = tfds.load(name=\"WikipediaToxicitySubtypes\", split=[\"train\", \"test\"], \n",
        "                                  batch_size=-1, as_supervised=True)"
      ],
      "metadata": {
        "id": "Pgkp4fXktIxD"
      },
      "execution_count": null,
      "outputs": []
    },
    {
      "cell_type": "code",
      "source": [
        "toxic_train = pd.DataFrame({\"text\":toxic_train[0].numpy(), \"label\":toxic_train[1].numpy()})\n",
        "toxic_test = pd.DataFrame({\"text\":toxic_test[0].numpy(), \"label\":toxic_test[1].numpy()})"
      ],
      "metadata": {
        "id": "N5Qf8CxT8_3B"
      },
      "execution_count": null,
      "outputs": []
    },
    {
      "cell_type": "code",
      "source": [
        "toxic_train.text = toxic_train.text.str.decode('utf-8') \n",
        "toxic_test.text = toxic_test.text.str.decode('utf-8') "
      ],
      "metadata": {
        "id": "joOdJUYQYmuo"
      },
      "execution_count": null,
      "outputs": []
    },
    {
      "cell_type": "code",
      "source": [
        "final_data = pd.concat((toxic_train, toxic_test,spam_data))"
      ],
      "metadata": {
        "id": "O7RMfNRdJ6Dw"
      },
      "execution_count": null,
      "outputs": []
    },
    {
      "cell_type": "code",
      "source": [
        "final_data.label.value_counts()"
      ],
      "metadata": {
        "colab": {
          "base_uri": "https://localhost:8080/"
        },
        "id": "mkCYAwgvRZSf",
        "outputId": "fa4895cc-1292-4d5a-fd57-5cf9ddc8c19f"
      },
      "execution_count": null,
      "outputs": [
        {
          "output_type": "execute_result",
          "data": {
            "text/plain": [
              "0.0    209619\n",
              "1.0     21384\n",
              "2.0      7445\n",
              "Name: label, dtype: int64"
            ]
          },
          "metadata": {},
          "execution_count": 188
        }
      ]
    },
    {
      "cell_type": "code",
      "source": [
        "train_data = pd.concat((\n",
        "    final_data[final_data.label == 0][:6_000], \n",
        "    final_data[final_data.label == 1][:6_000],\n",
        "    final_data[final_data.label == 2][:6_000],\n",
        "))"
      ],
      "metadata": {
        "id": "LT0LBxQtLCa4"
      },
      "execution_count": null,
      "outputs": []
    },
    {
      "cell_type": "code",
      "source": [
        "test_data = final_data.drop(train_data.index)"
      ],
      "metadata": {
        "id": "cifWxtecR4Oa"
      },
      "execution_count": null,
      "outputs": []
    },
    {
      "cell_type": "code",
      "source": [
        "test_data.label.value_counts()"
      ],
      "metadata": {
        "colab": {
          "base_uri": "https://localhost:8080/"
        },
        "id": "5M6WfpP9SXbx",
        "outputId": "df7d81a2-beca-49e4-e480-1c46ed895806"
      },
      "execution_count": null,
      "outputs": [
        {
          "output_type": "execute_result",
          "data": {
            "text/plain": [
              "0.0    184617\n",
              "1.0     14060\n",
              "2.0      1314\n",
              "Name: label, dtype: int64"
            ]
          },
          "metadata": {},
          "execution_count": 191
        }
      ]
    },
    {
      "cell_type": "code",
      "source": [
        "train_data.text = train_data.text\n",
        "test_data.text = test_data.text\n",
        "\n",
        "train_data.label = train_data.label.map(int)\n",
        "test_data.label = test_data.label.map(int)"
      ],
      "metadata": {
        "id": "eF6IaeWbWzzL"
      },
      "execution_count": null,
      "outputs": []
    },
    {
      "cell_type": "code",
      "source": [
        "train_data.to_csv(\"/content/drive/MyDrive/Datasets/text-moderation/merged_train.csv\")\n",
        "test_data.to_csv(\"/content/drive/MyDrive/Datasets/text-moderation/merged_test.csv\")"
      ],
      "metadata": {
        "id": "Lwr777cGSfk6"
      },
      "execution_count": null,
      "outputs": []
    }
  ]
}