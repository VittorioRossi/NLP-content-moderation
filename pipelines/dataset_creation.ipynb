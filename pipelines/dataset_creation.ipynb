{
  "cells": [
    {
      "cell_type": "markdown",
      "metadata": {
        "colab_type": "text",
        "id": "view-in-github"
      },
      "source": [
        "<a href=\"https://colab.research.google.com/github/VittorioRossi/NLP-content-moderation/blob/main/dataset_creation.ipynb\" target=\"_parent\"><img src=\"https://colab.research.google.com/assets/colab-badge.svg\" alt=\"Open In Colab\"/></a>"
      ]
    },
    {
      "cell_type": "code",
      "execution_count": null,
      "metadata": {
        "id": "W9LLUxcIB3Cj"
      },
      "outputs": [],
      "source": [
        "!pip install tensorflow_datasets"
      ]
    },
    {
      "cell_type": "code",
      "execution_count": null,
      "metadata": {
        "id": "lKCjL56zCHfU"
      },
      "outputs": [],
      "source": [
        "from google.colab import drive\n",
        "drive.mount('drive')"
      ]
    },
    {
      "cell_type": "code",
      "execution_count": null,
      "metadata": {
        "id": "hIC7zUwQB5UC"
      },
      "outputs": [],
      "source": [
        "import pandas as pd\n",
        "import numpy as np \n",
        "import os \n",
        "import tensorflow_dataset as tfds"
      ]
    },
    {
      "cell_type": "code",
      "execution_count": null,
      "metadata": {
        "id": "RKQpa6i1CBD6"
      },
      "outputs": [],
      "source": [
        "# directory\n",
        "TMP_DIR = os.path.join('/tmp/data')\n",
        "\n",
        "TRAIN_DIR = os.path.join(TMP_DIR, \"train\")\n",
        "TEST_DIR = os.path.join(TMP_DIR, \"test\")\n",
        "\n",
        "SEED = 42\n",
        "BATCH_SIZE = 64\n",
        "\n",
        "\n",
        "#creating folder structure\n",
        "os.makedirs(TMP_DIR, exist_ok = True)\n",
        "os.makedirs(TEST_DIR, exist_ok = True)\n",
        "os.makedirs(TRAIN_DIR, exist_ok = True)\n",
        "\n",
        "\n",
        "spam_data = pd.read_csv(\"/content/drive/MyDrive/Datasets/text-moderation/spam-train.csv\")\n",
        "spam_data = spam_data[[\"Tweet\", \"Type\"]]\n",
        "spam_data.columns = ['text', 'label']\n",
        "spam_data.label = spam_data.label.map(lambda x: 0 if x == \"Quality\" else 2)\n",
        "\n",
        "spam_data.label.value_counts()"
      ]
    },
    {
      "cell_type": "code",
      "execution_count": null,
      "metadata": {
        "id": "RNvKZq8rtF4q"
      },
      "outputs": [],
      "source": [
        "import tensorflow_datasets as tfds"
      ]
    },
    {
      "cell_type": "code",
      "execution_count": null,
      "metadata": {
        "id": "Pgkp4fXktIxD"
      },
      "outputs": [],
      "source": [
        "toxic_train, toxic_test = tfds.load(name=\"WikipediaToxicitySubtypes\", split=[\"train\", \"test\"], \n",
        "                                  batch_size=-1, as_supervised=True)"
      ]
    },
    {
      "cell_type": "code",
      "execution_count": null,
      "metadata": {
        "id": "N5Qf8CxT8_3B"
      },
      "outputs": [],
      "source": [
        "toxic_train = pd.DataFrame({\"text\":toxic_train[0].numpy(), \"label\":toxic_train[1].numpy()})\n",
        "toxic_test = pd.DataFrame({\"text\":toxic_test[0].numpy(), \"label\":toxic_test[1].numpy()})"
      ]
    },
    {
      "cell_type": "code",
      "execution_count": null,
      "metadata": {
        "id": "joOdJUYQYmuo"
      },
      "outputs": [],
      "source": [
        "toxic_train.text = toxic_train.text.str.decode('utf-8') \n",
        "toxic_test.text = toxic_test.text.str.decode('utf-8') "
      ]
    },
    {
      "cell_type": "code",
      "execution_count": null,
      "metadata": {
        "id": "O7RMfNRdJ6Dw"
      },
      "outputs": [],
      "source": [
        "final_data = pd.concat((toxic_train, toxic_test,spam_data))"
      ]
    },
    {
      "cell_type": "code",
      "execution_count": null,
      "metadata": {
        "colab": {
          "base_uri": "https://localhost:8080/"
        },
        "id": "mkCYAwgvRZSf",
        "outputId": "fa4895cc-1292-4d5a-fd57-5cf9ddc8c19f"
      },
      "outputs": [
        {
          "data": {
            "text/plain": [
              "0.0    209619\n",
              "1.0     21384\n",
              "2.0      7445\n",
              "Name: label, dtype: int64"
            ]
          },
          "execution_count": 188,
          "metadata": {},
          "output_type": "execute_result"
        }
      ],
      "source": [
        "final_data.label.value_counts()"
      ]
    },
    {
      "cell_type": "code",
      "execution_count": null,
      "metadata": {
        "id": "LT0LBxQtLCa4"
      },
      "outputs": [],
      "source": [
        "train_data = pd.concat((\n",
        "    final_data[final_data.label == 0][:6_000], \n",
        "    final_data[final_data.label == 1][:6_000],\n",
        "    final_data[final_data.label == 2][:6_000],\n",
        "))"
      ]
    },
    {
      "cell_type": "code",
      "execution_count": null,
      "metadata": {
        "id": "cifWxtecR4Oa"
      },
      "outputs": [],
      "source": [
        "test_data = final_data.drop(train_data.index)"
      ]
    },
    {
      "cell_type": "code",
      "execution_count": null,
      "metadata": {
        "colab": {
          "base_uri": "https://localhost:8080/"
        },
        "id": "5M6WfpP9SXbx",
        "outputId": "df7d81a2-beca-49e4-e480-1c46ed895806"
      },
      "outputs": [
        {
          "data": {
            "text/plain": [
              "0.0    184617\n",
              "1.0     14060\n",
              "2.0      1314\n",
              "Name: label, dtype: int64"
            ]
          },
          "execution_count": 191,
          "metadata": {},
          "output_type": "execute_result"
        }
      ],
      "source": [
        "test_data.label.value_counts()"
      ]
    },
    {
      "cell_type": "code",
      "execution_count": null,
      "metadata": {
        "id": "eF6IaeWbWzzL"
      },
      "outputs": [],
      "source": [
        "train_data.text = train_data.text\n",
        "test_data.text = test_data.text\n",
        "\n",
        "train_data.label = train_data.label.map(int)\n",
        "test_data.label = test_data.label.map(int)"
      ]
    },
    {
      "cell_type": "code",
      "execution_count": null,
      "metadata": {
        "id": "Lwr777cGSfk6"
      },
      "outputs": [],
      "source": [
        "train_data.to_csv(\"/content/drive/MyDrive/Datasets/text-moderation/merged_train.csv\")\n",
        "test_data.to_csv(\"/content/drive/MyDrive/Datasets/text-moderation/merged_test.csv\")"
      ]
    }
  ],
  "metadata": {
    "colab": {
      "authorship_tag": "ABX9TyOEq0USyh8o9bk5JYEJotiK",
      "include_colab_link": true,
      "provenance": []
    },
    "kernelspec": {
      "display_name": "base",
      "language": "python",
      "name": "python3"
    },
    "language_info": {
      "name": "python",
      "version": "3.8.8"
    },
    "vscode": {
      "interpreter": {
        "hash": "da9c18b3dbf76d156d1275517039e16697efa6b58f14b2b54c3fb1ba66e681f6"
      }
    }
  },
  "nbformat": 4,
  "nbformat_minor": 0
}
